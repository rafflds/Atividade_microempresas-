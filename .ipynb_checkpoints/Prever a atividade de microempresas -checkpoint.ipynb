{
 "cells": [
  {
   "cell_type": "markdown",
   "metadata": {},
   "source": [
    "# Descrição do conjunto de dados\n",
    "\n",
    "Seu desafio nesta competição é prever a atividade de microempresas nos Estados Unidos, medida pela densidade de microempresas nos condados americanos. Muitas vezes, as microempresas são muito pequenas ou muito novas para aparecer nas fontes de dados econômicos tradicionais, mas a atividade das microempresas pode ser correlacionada com outros indicadores econômicos de interesse geral.\n",
    "\n",
    "Como os dados econômicos históricos estão amplamente disponíveis, esta é uma competição de previsão. A tabela de classificação pública da fase de previsão e a tabela de classificação privada final serão determinadas usando dados coletados após o encerramento do período de envio. Você fará previsões estáticas que só podem incorporar informações disponíveis antes do final do período de envio. Isso significa que, embora reavaliemos os envios durante o período de previsão, não executaremos novamente nenhum notebook.\n",
    "arquivos\n",
    "\n",
    "Uma grande quantidade de dados está disponível publicamente sobre os condados e não tentamos reunir todos aqui. Você é fortemente encorajado a usar fontes de dados externas para recursos.\n",
    "\n",
    "\n",
    "## trem.csv\n",
    "\n",
    "row_id- Um código de ID para a linha.\n",
    "\n",
    "cfips- Um identificador exclusivo para cada condado usando o Sistema Federal de Processamento de Informações. Os dois primeiros dígitos correspondem ao código FIPS do estado, enquanto os 3 seguintes representam o município.\n",
    "\n",
    "county_name- O nome escrito do município.\n",
    "\n",
    "state_name- O nome do estado.\n",
    "\n",
    "first_day_of_month- A data do primeiro dia do mês.\n",
    "\n",
    "microbusiness_density- Microempresas por 100 maiores de 18 anos no concelho em questão. Esta é a variável de destino. Os números populacionais usados ​​para calcular a densidade estão com um atraso de dois anos devido ao ritmo de atualização fornecido pelo US Census Bureau, que fornece os dados populacionais subjacentes anualmente. Os números da densidade de 2021 são calculados usando os números da população de 2019, etc.\n",
    "    \n",
    "active- Contagem bruta de microempresas no concelho. Não fornecido para o conjunto de teste.\n",
    "\n",
    "\n",
    "## census_starter.csv \n",
    "\n",
    "Exemplos de colunas úteis da American Community Survey (ACS) do Census Bureau em data.census.gov . Os campos de porcentagem foram derivados das contagens brutas fornecidas pelo ACS. Todos os campos têm um atraso de dois anos para corresponder às informações disponíveis no momento em que uma determinada atualização de dados de microempresa foi publicada.\n",
    "\n",
    " pct_bb_[year]- A percentagem de agregados familiares no concelho com acesso a qualquer tipo de banda larga. Derivado da tabela ACS B28002: PRESENÇA E TIPOS DE ASSINATURAS DE INTERNET EM DOMICÍLIOS.\n",
    " \n",
    "cfips- O código CFIPS.\n",
    "\n",
    "pct_college_[year]- A porcentagem da população do condado com mais de 25 anos com um diploma universitário de 4 anos. Derivado da tabela ACS S1501: CONCLUSÃO ESCOLARINGOLÓGICA.\n",
    "\n",
    "pct_foreign_born_[year]- A porcentagem da população do condado nascida fora dos Estados Unidos. Derivado da tabela ACS DP02: CARACTERÍSTICAS SOCIAIS SELECIONADAS NOS ESTADOS UNIDOS.\n",
    "\n",
    "pct_it_workers_[year]- A porcentagem da força de trabalho no condado empregada em indústrias relacionadas à informação. Derivado da tabela ACS S2405: INDÚSTRIA POR OCUPAÇÃO PARA A POPULAÇÃO CIVIL EMPREGADA DE 16 ANOS OU MAIS.\n",
    "\n",
    "median_hh_inc_[year]- A renda familiar média no município. Derivado da tabela ACS S1901: RENDA NOS ÚLTIMOS 12 MESES (EM DÓLARES AJUSTADOS À INFLAÇÃO DE 2021).\n"
   ]
  },
  {
   "cell_type": "markdown",
   "metadata": {},
   "source": [
    "## <font color=teal>Imports"
   ]
  },
  {
   "cell_type": "code",
   "execution_count": 1,
   "metadata": {},
   "outputs": [],
   "source": [
    "import pandas as pd\n",
    "import seaborn as sns\n",
    "import matplotlib.pyplot as plt\n",
    "%matplotlib inline"
   ]
  },
  {
   "cell_type": "markdown",
   "metadata": {},
   "source": [
    "## <font color=teal>Leitura do dataset"
   ]
  },
  {
   "cell_type": "code",
   "execution_count": 2,
   "metadata": {},
   "outputs": [
    {
     "data": {
      "text/html": [
       "<div>\n",
       "<style scoped>\n",
       "    .dataframe tbody tr th:only-of-type {\n",
       "        vertical-align: middle;\n",
       "    }\n",
       "\n",
       "    .dataframe tbody tr th {\n",
       "        vertical-align: top;\n",
       "    }\n",
       "\n",
       "    .dataframe thead th {\n",
       "        text-align: right;\n",
       "    }\n",
       "</style>\n",
       "<table border=\"1\" class=\"dataframe\">\n",
       "  <thead>\n",
       "    <tr style=\"text-align: right;\">\n",
       "      <th></th>\n",
       "      <th>row_id</th>\n",
       "      <th>cfips</th>\n",
       "      <th>county</th>\n",
       "      <th>state</th>\n",
       "      <th>first_day_of_month</th>\n",
       "      <th>microbusiness_density</th>\n",
       "      <th>active</th>\n",
       "    </tr>\n",
       "  </thead>\n",
       "  <tbody>\n",
       "    <tr>\n",
       "      <th>0</th>\n",
       "      <td>1001_2019-08-01</td>\n",
       "      <td>1001</td>\n",
       "      <td>Autauga County</td>\n",
       "      <td>Alabama</td>\n",
       "      <td>2019-08-01</td>\n",
       "      <td>3.007682</td>\n",
       "      <td>1249</td>\n",
       "    </tr>\n",
       "    <tr>\n",
       "      <th>1</th>\n",
       "      <td>1001_2019-09-01</td>\n",
       "      <td>1001</td>\n",
       "      <td>Autauga County</td>\n",
       "      <td>Alabama</td>\n",
       "      <td>2019-09-01</td>\n",
       "      <td>2.884870</td>\n",
       "      <td>1198</td>\n",
       "    </tr>\n",
       "    <tr>\n",
       "      <th>2</th>\n",
       "      <td>1001_2019-10-01</td>\n",
       "      <td>1001</td>\n",
       "      <td>Autauga County</td>\n",
       "      <td>Alabama</td>\n",
       "      <td>2019-10-01</td>\n",
       "      <td>3.055843</td>\n",
       "      <td>1269</td>\n",
       "    </tr>\n",
       "    <tr>\n",
       "      <th>3</th>\n",
       "      <td>1001_2019-11-01</td>\n",
       "      <td>1001</td>\n",
       "      <td>Autauga County</td>\n",
       "      <td>Alabama</td>\n",
       "      <td>2019-11-01</td>\n",
       "      <td>2.993233</td>\n",
       "      <td>1243</td>\n",
       "    </tr>\n",
       "    <tr>\n",
       "      <th>4</th>\n",
       "      <td>1001_2019-12-01</td>\n",
       "      <td>1001</td>\n",
       "      <td>Autauga County</td>\n",
       "      <td>Alabama</td>\n",
       "      <td>2019-12-01</td>\n",
       "      <td>2.993233</td>\n",
       "      <td>1243</td>\n",
       "    </tr>\n",
       "    <tr>\n",
       "      <th>5</th>\n",
       "      <td>1001_2020-01-01</td>\n",
       "      <td>1001</td>\n",
       "      <td>Autauga County</td>\n",
       "      <td>Alabama</td>\n",
       "      <td>2020-01-01</td>\n",
       "      <td>2.969090</td>\n",
       "      <td>1242</td>\n",
       "    </tr>\n",
       "    <tr>\n",
       "      <th>6</th>\n",
       "      <td>1001_2020-02-01</td>\n",
       "      <td>1001</td>\n",
       "      <td>Autauga County</td>\n",
       "      <td>Alabama</td>\n",
       "      <td>2020-02-01</td>\n",
       "      <td>2.909326</td>\n",
       "      <td>1217</td>\n",
       "    </tr>\n",
       "    <tr>\n",
       "      <th>7</th>\n",
       "      <td>1001_2020-03-01</td>\n",
       "      <td>1001</td>\n",
       "      <td>Autauga County</td>\n",
       "      <td>Alabama</td>\n",
       "      <td>2020-03-01</td>\n",
       "      <td>2.933231</td>\n",
       "      <td>1227</td>\n",
       "    </tr>\n",
       "    <tr>\n",
       "      <th>8</th>\n",
       "      <td>1001_2020-04-01</td>\n",
       "      <td>1001</td>\n",
       "      <td>Autauga County</td>\n",
       "      <td>Alabama</td>\n",
       "      <td>2020-04-01</td>\n",
       "      <td>3.000167</td>\n",
       "      <td>1255</td>\n",
       "    </tr>\n",
       "    <tr>\n",
       "      <th>9</th>\n",
       "      <td>1001_2020-05-01</td>\n",
       "      <td>1001</td>\n",
       "      <td>Autauga County</td>\n",
       "      <td>Alabama</td>\n",
       "      <td>2020-05-01</td>\n",
       "      <td>3.004948</td>\n",
       "      <td>1257</td>\n",
       "    </tr>\n",
       "  </tbody>\n",
       "</table>\n",
       "</div>"
      ],
      "text/plain": [
       "            row_id  cfips          county    state first_day_of_month  \\\n",
       "0  1001_2019-08-01   1001  Autauga County  Alabama         2019-08-01   \n",
       "1  1001_2019-09-01   1001  Autauga County  Alabama         2019-09-01   \n",
       "2  1001_2019-10-01   1001  Autauga County  Alabama         2019-10-01   \n",
       "3  1001_2019-11-01   1001  Autauga County  Alabama         2019-11-01   \n",
       "4  1001_2019-12-01   1001  Autauga County  Alabama         2019-12-01   \n",
       "5  1001_2020-01-01   1001  Autauga County  Alabama         2020-01-01   \n",
       "6  1001_2020-02-01   1001  Autauga County  Alabama         2020-02-01   \n",
       "7  1001_2020-03-01   1001  Autauga County  Alabama         2020-03-01   \n",
       "8  1001_2020-04-01   1001  Autauga County  Alabama         2020-04-01   \n",
       "9  1001_2020-05-01   1001  Autauga County  Alabama         2020-05-01   \n",
       "\n",
       "   microbusiness_density  active  \n",
       "0               3.007682    1249  \n",
       "1               2.884870    1198  \n",
       "2               3.055843    1269  \n",
       "3               2.993233    1243  \n",
       "4               2.993233    1243  \n",
       "5               2.969090    1242  \n",
       "6               2.909326    1217  \n",
       "7               2.933231    1227  \n",
       "8               3.000167    1255  \n",
       "9               3.004948    1257  "
      ]
     },
     "execution_count": 2,
     "metadata": {},
     "output_type": "execute_result"
    }
   ],
   "source": [
    "df = pd.read_csv('train.csv')\n",
    "df.head(10)"
   ]
  },
  {
   "cell_type": "markdown",
   "metadata": {},
   "source": [
    "## <font color=teal>Tradução do dataset"
   ]
  },
  {
   "cell_type": "code",
   "execution_count": 3,
   "metadata": {},
   "outputs": [
    {
     "data": {
      "text/plain": [
       "Index(['row_id', 'cfips', 'county', 'state', 'first_day_of_month',\n",
       "       'microbusiness_density', 'active'],\n",
       "      dtype='object')"
      ]
     },
     "execution_count": 3,
     "metadata": {},
     "output_type": "execute_result"
    }
   ],
   "source": [
    "df.columns"
   ]
  },
  {
   "cell_type": "code",
   "execution_count": 4,
   "metadata": {},
   "outputs": [
    {
     "data": {
      "text/html": [
       "<div>\n",
       "<style scoped>\n",
       "    .dataframe tbody tr th:only-of-type {\n",
       "        vertical-align: middle;\n",
       "    }\n",
       "\n",
       "    .dataframe tbody tr th {\n",
       "        vertical-align: top;\n",
       "    }\n",
       "\n",
       "    .dataframe thead th {\n",
       "        text-align: right;\n",
       "    }\n",
       "</style>\n",
       "<table border=\"1\" class=\"dataframe\">\n",
       "  <thead>\n",
       "    <tr style=\"text-align: right;\">\n",
       "      <th></th>\n",
       "      <th>id</th>\n",
       "      <th>codigo</th>\n",
       "      <th>municipio</th>\n",
       "      <th>estado</th>\n",
       "      <th>primeiro_dia_mes</th>\n",
       "      <th>Densidade</th>\n",
       "      <th>contagem_microempresas</th>\n",
       "    </tr>\n",
       "  </thead>\n",
       "  <tbody>\n",
       "    <tr>\n",
       "      <th>0</th>\n",
       "      <td>1001_2019-08-01</td>\n",
       "      <td>1001</td>\n",
       "      <td>Autauga County</td>\n",
       "      <td>Alabama</td>\n",
       "      <td>2019-08-01</td>\n",
       "      <td>3.007682</td>\n",
       "      <td>1249</td>\n",
       "    </tr>\n",
       "    <tr>\n",
       "      <th>1</th>\n",
       "      <td>1001_2019-09-01</td>\n",
       "      <td>1001</td>\n",
       "      <td>Autauga County</td>\n",
       "      <td>Alabama</td>\n",
       "      <td>2019-09-01</td>\n",
       "      <td>2.884870</td>\n",
       "      <td>1198</td>\n",
       "    </tr>\n",
       "    <tr>\n",
       "      <th>2</th>\n",
       "      <td>1001_2019-10-01</td>\n",
       "      <td>1001</td>\n",
       "      <td>Autauga County</td>\n",
       "      <td>Alabama</td>\n",
       "      <td>2019-10-01</td>\n",
       "      <td>3.055843</td>\n",
       "      <td>1269</td>\n",
       "    </tr>\n",
       "    <tr>\n",
       "      <th>3</th>\n",
       "      <td>1001_2019-11-01</td>\n",
       "      <td>1001</td>\n",
       "      <td>Autauga County</td>\n",
       "      <td>Alabama</td>\n",
       "      <td>2019-11-01</td>\n",
       "      <td>2.993233</td>\n",
       "      <td>1243</td>\n",
       "    </tr>\n",
       "    <tr>\n",
       "      <th>4</th>\n",
       "      <td>1001_2019-12-01</td>\n",
       "      <td>1001</td>\n",
       "      <td>Autauga County</td>\n",
       "      <td>Alabama</td>\n",
       "      <td>2019-12-01</td>\n",
       "      <td>2.993233</td>\n",
       "      <td>1243</td>\n",
       "    </tr>\n",
       "  </tbody>\n",
       "</table>\n",
       "</div>"
      ],
      "text/plain": [
       "                id  codigo       municipio   estado primeiro_dia_mes  \\\n",
       "0  1001_2019-08-01    1001  Autauga County  Alabama       2019-08-01   \n",
       "1  1001_2019-09-01    1001  Autauga County  Alabama       2019-09-01   \n",
       "2  1001_2019-10-01    1001  Autauga County  Alabama       2019-10-01   \n",
       "3  1001_2019-11-01    1001  Autauga County  Alabama       2019-11-01   \n",
       "4  1001_2019-12-01    1001  Autauga County  Alabama       2019-12-01   \n",
       "\n",
       "   Densidade  contagem_microempresas  \n",
       "0   3.007682                    1249  \n",
       "1   2.884870                    1198  \n",
       "2   3.055843                    1269  \n",
       "3   2.993233                    1243  \n",
       "4   2.993233                    1243  "
      ]
     },
     "execution_count": 4,
     "metadata": {},
     "output_type": "execute_result"
    }
   ],
   "source": [
    "df.columns = ['id','codigo', 'municipio','estado','primeiro_dia_mes', \n",
    "              'Densidade','contagem_microempresas']\n",
    "df.head()"
   ]
  },
  {
   "cell_type": "markdown",
   "metadata": {},
   "source": [
    "## <font color=teal>Deletar algumas variáveis"
   ]
  },
  {
   "cell_type": "code",
   "execution_count": 5,
   "metadata": {},
   "outputs": [
    {
     "data": {
      "text/html": [
       "<div>\n",
       "<style scoped>\n",
       "    .dataframe tbody tr th:only-of-type {\n",
       "        vertical-align: middle;\n",
       "    }\n",
       "\n",
       "    .dataframe tbody tr th {\n",
       "        vertical-align: top;\n",
       "    }\n",
       "\n",
       "    .dataframe thead th {\n",
       "        text-align: right;\n",
       "    }\n",
       "</style>\n",
       "<table border=\"1\" class=\"dataframe\">\n",
       "  <thead>\n",
       "    <tr style=\"text-align: right;\">\n",
       "      <th></th>\n",
       "      <th>municipio</th>\n",
       "      <th>estado</th>\n",
       "      <th>primeiro_dia_mes</th>\n",
       "      <th>Densidade</th>\n",
       "      <th>contagem_microempresas</th>\n",
       "    </tr>\n",
       "  </thead>\n",
       "  <tbody>\n",
       "    <tr>\n",
       "      <th>0</th>\n",
       "      <td>Autauga County</td>\n",
       "      <td>Alabama</td>\n",
       "      <td>2019-08-01</td>\n",
       "      <td>3.007682</td>\n",
       "      <td>1249</td>\n",
       "    </tr>\n",
       "    <tr>\n",
       "      <th>1</th>\n",
       "      <td>Autauga County</td>\n",
       "      <td>Alabama</td>\n",
       "      <td>2019-09-01</td>\n",
       "      <td>2.884870</td>\n",
       "      <td>1198</td>\n",
       "    </tr>\n",
       "    <tr>\n",
       "      <th>2</th>\n",
       "      <td>Autauga County</td>\n",
       "      <td>Alabama</td>\n",
       "      <td>2019-10-01</td>\n",
       "      <td>3.055843</td>\n",
       "      <td>1269</td>\n",
       "    </tr>\n",
       "    <tr>\n",
       "      <th>3</th>\n",
       "      <td>Autauga County</td>\n",
       "      <td>Alabama</td>\n",
       "      <td>2019-11-01</td>\n",
       "      <td>2.993233</td>\n",
       "      <td>1243</td>\n",
       "    </tr>\n",
       "    <tr>\n",
       "      <th>4</th>\n",
       "      <td>Autauga County</td>\n",
       "      <td>Alabama</td>\n",
       "      <td>2019-12-01</td>\n",
       "      <td>2.993233</td>\n",
       "      <td>1243</td>\n",
       "    </tr>\n",
       "  </tbody>\n",
       "</table>\n",
       "</div>"
      ],
      "text/plain": [
       "        municipio   estado primeiro_dia_mes  Densidade  contagem_microempresas\n",
       "0  Autauga County  Alabama       2019-08-01   3.007682                    1249\n",
       "1  Autauga County  Alabama       2019-09-01   2.884870                    1198\n",
       "2  Autauga County  Alabama       2019-10-01   3.055843                    1269\n",
       "3  Autauga County  Alabama       2019-11-01   2.993233                    1243\n",
       "4  Autauga County  Alabama       2019-12-01   2.993233                    1243"
      ]
     },
     "execution_count": 5,
     "metadata": {},
     "output_type": "execute_result"
    }
   ],
   "source": [
    "df.drop(columns=['id','codigo'], inplace=True)\n",
    "df.head()"
   ]
  },
  {
   "cell_type": "markdown",
   "metadata": {},
   "source": [
    "## <font color=teal>Informações sobre o dataset"
   ]
  },
  {
   "cell_type": "code",
   "execution_count": 6,
   "metadata": {},
   "outputs": [
    {
     "name": "stdout",
     "output_type": "stream",
     "text": [
      "<class 'pandas.core.frame.DataFrame'>\n",
      "RangeIndex: 122265 entries, 0 to 122264\n",
      "Data columns (total 5 columns):\n",
      " #   Column                  Non-Null Count   Dtype  \n",
      "---  ------                  --------------   -----  \n",
      " 0   municipio               122265 non-null  object \n",
      " 1   estado                  122265 non-null  object \n",
      " 2   primeiro_dia_mes        122265 non-null  object \n",
      " 3   Densidade               122265 non-null  float64\n",
      " 4   contagem_microempresas  122265 non-null  int64  \n",
      "dtypes: float64(1), int64(1), object(3)\n",
      "memory usage: 4.7+ MB\n"
     ]
    }
   ],
   "source": [
    "df.info()"
   ]
  },
  {
   "cell_type": "markdown",
   "metadata": {},
   "source": [
    "## <font color=teal>Verificação de variáveis"
   ]
  },
  {
   "cell_type": "markdown",
   "metadata": {},
   "source": [
    "### Verificando os municipios utilizado no dataset"
   ]
  },
  {
   "cell_type": "code",
   "execution_count": 7,
   "metadata": {},
   "outputs": [
    {
     "data": {
      "text/plain": [
       "Washington County      1170\n",
       "Jefferson County        975\n",
       "Franklin County         936\n",
       "Lincoln County          897\n",
       "Jackson County          897\n",
       "                       ... \n",
       "Schleicher County        39\n",
       "St. Lawrence County      39\n",
       "Maverick County          39\n",
       "Newberry County          39\n",
       "Hubbard County           39\n",
       "Name: municipio, Length: 1871, dtype: int64"
      ]
     },
     "execution_count": 7,
     "metadata": {},
     "output_type": "execute_result"
    }
   ],
   "source": [
    "df.municipio.value_counts()"
   ]
  },
  {
   "cell_type": "markdown",
   "metadata": {},
   "source": [
    "### Mínimo e máximo relacionados a data"
   ]
  },
  {
   "cell_type": "code",
   "execution_count": 8,
   "metadata": {},
   "outputs": [
    {
     "name": "stdout",
     "output_type": "stream",
     "text": [
      "Mínimo:  2019-08-01\n",
      "Máximo:  2022-10-01\n"
     ]
    }
   ],
   "source": [
    "print('Mínimo: ',df.primeiro_dia_mes.min())\n",
    "print('Máximo: ',df.primeiro_dia_mes.max())"
   ]
  },
  {
   "cell_type": "markdown",
   "metadata": {},
   "source": [
    "### Estados"
   ]
  },
  {
   "cell_type": "code",
   "execution_count": 9,
   "metadata": {},
   "outputs": [
    {
     "data": {
      "text/plain": [
       "array(['Alabama', 'Alaska', 'Arizona', 'Arkansas', 'California',\n",
       "       'Colorado', 'Connecticut', 'Delaware', 'District of Columbia',\n",
       "       'Florida', 'Georgia', 'Hawaii', 'Idaho', 'Illinois', 'Indiana',\n",
       "       'Iowa', 'Kansas', 'Kentucky', 'Louisiana', 'Maine', 'Maryland',\n",
       "       'Massachusetts', 'Michigan', 'Minnesota', 'Mississippi',\n",
       "       'Missouri', 'Montana', 'Nebraska', 'Nevada', 'New Hampshire',\n",
       "       'New Jersey', 'New Mexico', 'New York', 'North Carolina',\n",
       "       'North Dakota', 'Ohio', 'Oklahoma', 'Oregon', 'Pennsylvania',\n",
       "       'Rhode Island', 'South Carolina', 'South Dakota', 'Tennessee',\n",
       "       'Texas', 'Utah', 'Vermont', 'Virginia', 'Washington',\n",
       "       'West Virginia', 'Wisconsin', 'Wyoming'], dtype=object)"
      ]
     },
     "execution_count": 9,
     "metadata": {},
     "output_type": "execute_result"
    }
   ],
   "source": [
    "df.estado.unique()"
   ]
  },
  {
   "cell_type": "markdown",
   "metadata": {},
   "source": [
    "### Densidade por microempresas"
   ]
  },
  {
   "cell_type": "code",
   "execution_count": 10,
   "metadata": {},
   "outputs": [
    {
     "name": "stdout",
     "output_type": "stream",
     "text": [
      "Mínimo:  0.0\n",
      "Máximo:  284.34002999999996\n"
     ]
    }
   ],
   "source": [
    "print('Mínimo: ',df.Densidade.min())\n",
    "print('Máximo: ',df.Densidade.max())"
   ]
  },
  {
   "cell_type": "markdown",
   "metadata": {},
   "source": [
    "### Quantidade de microempresas por estado"
   ]
  },
  {
   "cell_type": "code",
   "execution_count": 11,
   "metadata": {},
   "outputs": [
    {
     "name": "stdout",
     "output_type": "stream",
     "text": [
      "Mínimo:  0\n",
      "Máximo:  1167744\n"
     ]
    }
   ],
   "source": [
    "print('Mínimo: ',df.contagem_microempresas.min())\n",
    "print('Máximo: ',df.contagem_microempresas.max())"
   ]
  },
  {
   "cell_type": "markdown",
   "metadata": {},
   "source": [
    "## <font color=teal>Serie Temporal"
   ]
  },
  {
   "cell_type": "code",
   "execution_count": 12,
   "metadata": {},
   "outputs": [
    {
     "data": {
      "text/plain": [
       "municipio                         object\n",
       "estado                            object\n",
       "primeiro_dia_mes          datetime64[ns]\n",
       "Densidade                        float64\n",
       "contagem_microempresas             int64\n",
       "dtype: object"
      ]
     },
     "execution_count": 12,
     "metadata": {},
     "output_type": "execute_result"
    }
   ],
   "source": [
    "dados = df\n",
    "\n",
    "dados['primeiro_dia_mes'] = pd.to_datetime(dados['primeiro_dia_mes'])\n",
    "dados.dtypes"
   ]
  },
  {
   "cell_type": "markdown",
   "metadata": {},
   "source": [
    "### Aumento e aceleração da quantidade de microempresas por mês"
   ]
  },
  {
   "cell_type": "code",
   "execution_count": 13,
   "metadata": {},
   "outputs": [
    {
     "data": {
      "text/html": [
       "<div>\n",
       "<style scoped>\n",
       "    .dataframe tbody tr th:only-of-type {\n",
       "        vertical-align: middle;\n",
       "    }\n",
       "\n",
       "    .dataframe tbody tr th {\n",
       "        vertical-align: top;\n",
       "    }\n",
       "\n",
       "    .dataframe thead th {\n",
       "        text-align: right;\n",
       "    }\n",
       "</style>\n",
       "<table border=\"1\" class=\"dataframe\">\n",
       "  <thead>\n",
       "    <tr style=\"text-align: right;\">\n",
       "      <th></th>\n",
       "      <th>municipio</th>\n",
       "      <th>estado</th>\n",
       "      <th>primeiro_dia_mes</th>\n",
       "      <th>Densidade</th>\n",
       "      <th>contagem_microempresas</th>\n",
       "      <th>aumento</th>\n",
       "      <th>aceleracao</th>\n",
       "    </tr>\n",
       "  </thead>\n",
       "  <tbody>\n",
       "    <tr>\n",
       "      <th>0</th>\n",
       "      <td>Autauga County</td>\n",
       "      <td>Alabama</td>\n",
       "      <td>2019-08-01</td>\n",
       "      <td>3.007682</td>\n",
       "      <td>1249</td>\n",
       "      <td>NaN</td>\n",
       "      <td>NaN</td>\n",
       "    </tr>\n",
       "    <tr>\n",
       "      <th>1</th>\n",
       "      <td>Autauga County</td>\n",
       "      <td>Alabama</td>\n",
       "      <td>2019-09-01</td>\n",
       "      <td>2.884870</td>\n",
       "      <td>1198</td>\n",
       "      <td>-51.0</td>\n",
       "      <td>NaN</td>\n",
       "    </tr>\n",
       "    <tr>\n",
       "      <th>2</th>\n",
       "      <td>Autauga County</td>\n",
       "      <td>Alabama</td>\n",
       "      <td>2019-10-01</td>\n",
       "      <td>3.055843</td>\n",
       "      <td>1269</td>\n",
       "      <td>71.0</td>\n",
       "      <td>122.0</td>\n",
       "    </tr>\n",
       "    <tr>\n",
       "      <th>3</th>\n",
       "      <td>Autauga County</td>\n",
       "      <td>Alabama</td>\n",
       "      <td>2019-11-01</td>\n",
       "      <td>2.993233</td>\n",
       "      <td>1243</td>\n",
       "      <td>-26.0</td>\n",
       "      <td>-97.0</td>\n",
       "    </tr>\n",
       "    <tr>\n",
       "      <th>4</th>\n",
       "      <td>Autauga County</td>\n",
       "      <td>Alabama</td>\n",
       "      <td>2019-12-01</td>\n",
       "      <td>2.993233</td>\n",
       "      <td>1243</td>\n",
       "      <td>0.0</td>\n",
       "      <td>26.0</td>\n",
       "    </tr>\n",
       "  </tbody>\n",
       "</table>\n",
       "</div>"
      ],
      "text/plain": [
       "        municipio   estado primeiro_dia_mes  Densidade  \\\n",
       "0  Autauga County  Alabama       2019-08-01   3.007682   \n",
       "1  Autauga County  Alabama       2019-09-01   2.884870   \n",
       "2  Autauga County  Alabama       2019-10-01   3.055843   \n",
       "3  Autauga County  Alabama       2019-11-01   2.993233   \n",
       "4  Autauga County  Alabama       2019-12-01   2.993233   \n",
       "\n",
       "   contagem_microempresas  aumento  aceleracao  \n",
       "0                    1249      NaN         NaN  \n",
       "1                    1198    -51.0         NaN  \n",
       "2                    1269     71.0       122.0  \n",
       "3                    1243    -26.0       -97.0  \n",
       "4                    1243      0.0        26.0  "
      ]
     },
     "execution_count": 13,
     "metadata": {},
     "output_type": "execute_result"
    }
   ],
   "source": [
    "dados['aumento'] = dados.contagem_microempresas.diff()\n",
    "dados['aceleracao'] = dados['aumento'].diff()\n",
    "dados.head()"
   ]
  },
  {
   "cell_type": "markdown",
   "metadata": {},
   "source": [
    "## <font color=teal>Dashboard"
   ]
  },
  {
   "cell_type": "code",
   "execution_count": 14,
   "metadata": {},
   "outputs": [],
   "source": [
    "def plot_comparacao(x, y1, y2, y3, dataset, titulo):\n",
    "    plt.figure(figsize=(16,12))\n",
    "\n",
    "    ax = plt.subplot(3,1,1)\n",
    "    ax.set_title(titulo, fontsize=18, loc='left')\n",
    "    sns.lineplot(x=x, y=y1, data=dataset)\n",
    "\n",
    "    plt.subplot(3,1,2)\n",
    "    sns.lineplot(x=x, y=y2, data=dataset)\n",
    "\n",
    "    plt.subplot(3,1,3)\n",
    "    sns.lineplot(x=x, y=y3, data=dataset)\n",
    "\n",
    "    ax = ax"
   ]
  },
  {
   "cell_type": "code",
   "execution_count": 15,
   "metadata": {},
   "outputs": [
    {
     "data": {
      "image/png": "[encoded data removed]",
      "text/plain": [
       "<Figure size 1152x864 with 3 Axes>"
      ]
     },
     "metadata": {
      "needs_background": "light"
     },
     "output_type": "display_data"
    }
   ],
   "source": [
    "plot_comparacao('primeiro_dia_mes', 'contagem_microempresas', 'aumento','aceleracao', \n",
    "               dados, 'Contagem de Microempresas')"
   ]
  },
  {
   "cell_type": "markdown",
   "metadata": {},
   "source": [
    "### Autocorrelação"
   ]
  },
  {
   "cell_type": "code",
   "execution_count": 16,
   "metadata": {},
   "outputs": [
    {
     "data": {
      "image/png": "[encoded data removed]",
      "text/plain": [
       "<Figure size 864x432 with 1 Axes>"
      ]
     },
     "metadata": {
      "needs_background": "light"
     },
     "output_type": "display_data"
    }
   ],
   "source": [
    "from pandas.plotting import autocorrelation_plot\n",
    "\n",
    "ax = plt.figure(figsize=(12,6))\n",
    "ax.suptitle('Correlação microempresas', fontsize=18, x=0.26, y=0.95)\n",
    "autocorrelation_plot(dados['contagem_microempresas'])\n",
    "ax = ax"
   ]
  },
  {
   "cell_type": "code",
   "execution_count": 17,
   "metadata": {},
   "outputs": [
    {
     "data": {
      "image/png": "[encoded data removed]",
      "text/plain": [
       "<Figure size 864x432 with 1 Axes>"
      ]
     },
     "metadata": {},
     "output_type": "display_data"
    }
   ],
   "source": [
    "sns.set_palette('pastel')\n",
    "sns.set_style('whitegrid')\n",
    "ax = plt.figure(figsize=(12,6))\n",
    "ax = sns.lineplot(x='primeiro_dia_mes', y='Densidade',\n",
    "                 data = dados)\n",
    "ax.set_title('Análise de densidade de microempresas', loc='left',\n",
    "            fontsize=18)\n",
    "ax.set_xlabel('Data', fontsize=14)\n",
    "ax.set_ylabel('Contagem', fontsize=14)\n",
    "ax = ax"
   ]
  },
  {
   "cell_type": "markdown",
   "metadata": {},
   "source": [
    "### Adicionar nomes aos dias da semana"
   ]
  },
  {
   "cell_type": "code",
   "execution_count": 18,
   "metadata": {},
   "outputs": [
    {
     "data": {
      "text/html": [
       "<div>\n",
       "<style scoped>\n",
       "    .dataframe tbody tr th:only-of-type {\n",
       "        vertical-align: middle;\n",
       "    }\n",
       "\n",
       "    .dataframe tbody tr th {\n",
       "        vertical-align: top;\n",
       "    }\n",
       "\n",
       "    .dataframe thead th {\n",
       "        text-align: right;\n",
       "    }\n",
       "</style>\n",
       "<table border=\"1\" class=\"dataframe\">\n",
       "  <thead>\n",
       "    <tr style=\"text-align: right;\">\n",
       "      <th></th>\n",
       "      <th>municipio</th>\n",
       "      <th>estado</th>\n",
       "      <th>primeiro_dia_mes</th>\n",
       "      <th>Densidade</th>\n",
       "      <th>contagem_microempresas</th>\n",
       "      <th>aumento</th>\n",
       "      <th>aceleracao</th>\n",
       "      <th>dia_da_semana</th>\n",
       "    </tr>\n",
       "  </thead>\n",
       "  <tbody>\n",
       "    <tr>\n",
       "      <th>0</th>\n",
       "      <td>Autauga County</td>\n",
       "      <td>Alabama</td>\n",
       "      <td>2019-08-01</td>\n",
       "      <td>3.007682</td>\n",
       "      <td>1249</td>\n",
       "      <td>NaN</td>\n",
       "      <td>NaN</td>\n",
       "      <td>Thursday</td>\n",
       "    </tr>\n",
       "    <tr>\n",
       "      <th>1</th>\n",
       "      <td>Autauga County</td>\n",
       "      <td>Alabama</td>\n",
       "      <td>2019-09-01</td>\n",
       "      <td>2.884870</td>\n",
       "      <td>1198</td>\n",
       "      <td>-51.0</td>\n",
       "      <td>NaN</td>\n",
       "      <td>Sunday</td>\n",
       "    </tr>\n",
       "    <tr>\n",
       "      <th>2</th>\n",
       "      <td>Autauga County</td>\n",
       "      <td>Alabama</td>\n",
       "      <td>2019-10-01</td>\n",
       "      <td>3.055843</td>\n",
       "      <td>1269</td>\n",
       "      <td>71.0</td>\n",
       "      <td>122.0</td>\n",
       "      <td>Tuesday</td>\n",
       "    </tr>\n",
       "    <tr>\n",
       "      <th>3</th>\n",
       "      <td>Autauga County</td>\n",
       "      <td>Alabama</td>\n",
       "      <td>2019-11-01</td>\n",
       "      <td>2.993233</td>\n",
       "      <td>1243</td>\n",
       "      <td>-26.0</td>\n",
       "      <td>-97.0</td>\n",
       "      <td>Friday</td>\n",
       "    </tr>\n",
       "    <tr>\n",
       "      <th>4</th>\n",
       "      <td>Autauga County</td>\n",
       "      <td>Alabama</td>\n",
       "      <td>2019-12-01</td>\n",
       "      <td>2.993233</td>\n",
       "      <td>1243</td>\n",
       "      <td>0.0</td>\n",
       "      <td>26.0</td>\n",
       "      <td>Sunday</td>\n",
       "    </tr>\n",
       "    <tr>\n",
       "      <th>...</th>\n",
       "      <td>...</td>\n",
       "      <td>...</td>\n",
       "      <td>...</td>\n",
       "      <td>...</td>\n",
       "      <td>...</td>\n",
       "      <td>...</td>\n",
       "      <td>...</td>\n",
       "      <td>...</td>\n",
       "    </tr>\n",
       "    <tr>\n",
       "      <th>122260</th>\n",
       "      <td>Weston County</td>\n",
       "      <td>Wyoming</td>\n",
       "      <td>2022-06-01</td>\n",
       "      <td>1.803249</td>\n",
       "      <td>101</td>\n",
       "      <td>0.0</td>\n",
       "      <td>-2.0</td>\n",
       "      <td>Wednesday</td>\n",
       "    </tr>\n",
       "    <tr>\n",
       "      <th>122261</th>\n",
       "      <td>Weston County</td>\n",
       "      <td>Wyoming</td>\n",
       "      <td>2022-07-01</td>\n",
       "      <td>1.803249</td>\n",
       "      <td>101</td>\n",
       "      <td>0.0</td>\n",
       "      <td>0.0</td>\n",
       "      <td>Friday</td>\n",
       "    </tr>\n",
       "    <tr>\n",
       "      <th>122262</th>\n",
       "      <td>Weston County</td>\n",
       "      <td>Wyoming</td>\n",
       "      <td>2022-08-01</td>\n",
       "      <td>1.785396</td>\n",
       "      <td>100</td>\n",
       "      <td>-1.0</td>\n",
       "      <td>-1.0</td>\n",
       "      <td>Monday</td>\n",
       "    </tr>\n",
       "    <tr>\n",
       "      <th>122263</th>\n",
       "      <td>Weston County</td>\n",
       "      <td>Wyoming</td>\n",
       "      <td>2022-09-01</td>\n",
       "      <td>1.785396</td>\n",
       "      <td>100</td>\n",
       "      <td>0.0</td>\n",
       "      <td>1.0</td>\n",
       "      <td>Thursday</td>\n",
       "    </tr>\n",
       "    <tr>\n",
       "      <th>122264</th>\n",
       "      <td>Weston County</td>\n",
       "      <td>Wyoming</td>\n",
       "      <td>2022-10-01</td>\n",
       "      <td>1.785396</td>\n",
       "      <td>100</td>\n",
       "      <td>0.0</td>\n",
       "      <td>0.0</td>\n",
       "      <td>Saturday</td>\n",
       "    </tr>\n",
       "  </tbody>\n",
       "</table>\n",
       "<p>122265 rows × 8 columns</p>\n",
       "</div>"
      ],
      "text/plain": [
       "             municipio   estado primeiro_dia_mes  Densidade  \\\n",
       "0       Autauga County  Alabama       2019-08-01   3.007682   \n",
       "1       Autauga County  Alabama       2019-09-01   2.884870   \n",
       "2       Autauga County  Alabama       2019-10-01   3.055843   \n",
       "3       Autauga County  Alabama       2019-11-01   2.993233   \n",
       "4       Autauga County  Alabama       2019-12-01   2.993233   \n",
       "...                ...      ...              ...        ...   \n",
       "122260   Weston County  Wyoming       2022-06-01   1.803249   \n",
       "122261   Weston County  Wyoming       2022-07-01   1.803249   \n",
       "122262   Weston County  Wyoming       2022-08-01   1.785396   \n",
       "122263   Weston County  Wyoming       2022-09-01   1.785396   \n",
       "122264   Weston County  Wyoming       2022-10-01   1.785396   \n",
       "\n",
       "        contagem_microempresas  aumento  aceleracao dia_da_semana  \n",
       "0                         1249      NaN         NaN      Thursday  \n",
       "1                         1198    -51.0         NaN        Sunday  \n",
       "2                         1269     71.0       122.0       Tuesday  \n",
       "3                         1243    -26.0       -97.0        Friday  \n",
       "4                         1243      0.0        26.0        Sunday  \n",
       "...                        ...      ...         ...           ...  \n",
       "122260                     101      0.0        -2.0     Wednesday  \n",
       "122261                     101      0.0         0.0        Friday  \n",
       "122262                     100     -1.0        -1.0        Monday  \n",
       "122263                     100      0.0         1.0      Thursday  \n",
       "122264                     100      0.0         0.0      Saturday  \n",
       "\n",
       "[122265 rows x 8 columns]"
      ]
     },
     "execution_count": 18,
     "metadata": {},
     "output_type": "execute_result"
    }
   ],
   "source": [
    "dados['dia_da_semana'] = dados['primeiro_dia_mes'].dt.day_name()\n",
    "dados"
   ]
  },
  {
   "cell_type": "code",
   "execution_count": 19,
   "metadata": {},
   "outputs": [
    {
     "data": {
      "text/plain": [
       "array(['Thursday', 'Sunday', 'Tuesday', 'Friday', 'Wednesday', 'Saturday',\n",
       "       'Monday'], dtype=object)"
      ]
     },
     "execution_count": 19,
     "metadata": {},
     "output_type": "execute_result"
    }
   ],
   "source": [
    "dados['dia_da_semana'].unique()"
   ]
  },
  {
   "cell_type": "markdown",
   "metadata": {},
   "source": [
    "### Agrupar os dados por dia da semana\n",
    "\n",
    "> Houve um aumento na contagem de microempresas nos dias:Friday, wednesday"
   ]
  },
  {
   "cell_type": "code",
   "execution_count": 20,
   "metadata": {},
   "outputs": [
    {
     "name": "stderr",
     "output_type": "stream",
     "text": [
      "/home/rafael/anaconda3/lib/python3.7/site-packages/ipykernel_launcher.py:1: FutureWarning: Indexing with multiple keys (implicitly converted to a tuple of keys) will be deprecated, use a list instead.\n",
      "  \"\"\"Entry point for launching an IPython kernel.\n"
     ]
    },
    {
     "data": {
      "text/html": [
       "<div>\n",
       "<style scoped>\n",
       "    .dataframe tbody tr th:only-of-type {\n",
       "        vertical-align: middle;\n",
       "    }\n",
       "\n",
       "    .dataframe tbody tr th {\n",
       "        vertical-align: top;\n",
       "    }\n",
       "\n",
       "    .dataframe thead th {\n",
       "        text-align: right;\n",
       "    }\n",
       "</style>\n",
       "<table border=\"1\" class=\"dataframe\">\n",
       "  <thead>\n",
       "    <tr style=\"text-align: right;\">\n",
       "      <th></th>\n",
       "      <th>contagem_microempresas</th>\n",
       "      <th>aumento</th>\n",
       "      <th>aceleracao</th>\n",
       "    </tr>\n",
       "    <tr>\n",
       "      <th>dia_da_semana</th>\n",
       "      <th></th>\n",
       "      <th></th>\n",
       "      <th></th>\n",
       "    </tr>\n",
       "  </thead>\n",
       "  <tbody>\n",
       "    <tr>\n",
       "      <th>Friday</th>\n",
       "      <td>6485.0</td>\n",
       "      <td>30.0</td>\n",
       "      <td>2.0</td>\n",
       "    </tr>\n",
       "    <tr>\n",
       "      <th>Monday</th>\n",
       "      <td>6437.0</td>\n",
       "      <td>-5.0</td>\n",
       "      <td>-10.0</td>\n",
       "    </tr>\n",
       "    <tr>\n",
       "      <th>Saturday</th>\n",
       "      <td>6477.0</td>\n",
       "      <td>12.0</td>\n",
       "      <td>-9.0</td>\n",
       "    </tr>\n",
       "    <tr>\n",
       "      <th>Sunday</th>\n",
       "      <td>6375.0</td>\n",
       "      <td>-0.0</td>\n",
       "      <td>97.0</td>\n",
       "    </tr>\n",
       "    <tr>\n",
       "      <th>Thursday</th>\n",
       "      <td>6435.0</td>\n",
       "      <td>-99.0</td>\n",
       "      <td>-124.0</td>\n",
       "    </tr>\n",
       "    <tr>\n",
       "      <th>Tuesday</th>\n",
       "      <td>6460.0</td>\n",
       "      <td>17.0</td>\n",
       "      <td>1.0</td>\n",
       "    </tr>\n",
       "    <tr>\n",
       "      <th>Wednesday</th>\n",
       "      <td>6434.0</td>\n",
       "      <td>29.0</td>\n",
       "      <td>19.0</td>\n",
       "    </tr>\n",
       "  </tbody>\n",
       "</table>\n",
       "</div>"
      ],
      "text/plain": [
       "               contagem_microempresas  aumento  aceleracao\n",
       "dia_da_semana                                             \n",
       "Friday                         6485.0     30.0         2.0\n",
       "Monday                         6437.0     -5.0       -10.0\n",
       "Saturday                       6477.0     12.0        -9.0\n",
       "Sunday                         6375.0     -0.0        97.0\n",
       "Thursday                       6435.0    -99.0      -124.0\n",
       "Tuesday                        6460.0     17.0         1.0\n",
       "Wednesday                      6434.0     29.0        19.0"
      ]
     },
     "execution_count": 20,
     "metadata": {},
     "output_type": "execute_result"
    }
   ],
   "source": [
    "agrupar = dados.groupby('dia_da_semana')['contagem_microempresas', 'aumento','aceleracao'].mean().round()\n",
    "agrupar"
   ]
  },
  {
   "cell_type": "markdown",
   "metadata": {},
   "source": [
    "## <font color=teal>Agrupar por estado"
   ]
  },
  {
   "cell_type": "code",
   "execution_count": 21,
   "metadata": {},
   "outputs": [
    {
     "name": "stderr",
     "output_type": "stream",
     "text": [
      "/home/rafael/anaconda3/lib/python3.7/site-packages/ipykernel_launcher.py:1: FutureWarning: Indexing with multiple keys (implicitly converted to a tuple of keys) will be deprecated, use a list instead.\n",
      "  \"\"\"Entry point for launching an IPython kernel.\n"
     ]
    },
    {
     "data": {
      "text/html": [
       "<div>\n",
       "<style scoped>\n",
       "    .dataframe tbody tr th:only-of-type {\n",
       "        vertical-align: middle;\n",
       "    }\n",
       "\n",
       "    .dataframe tbody tr th {\n",
       "        vertical-align: top;\n",
       "    }\n",
       "\n",
       "    .dataframe thead th {\n",
       "        text-align: right;\n",
       "    }\n",
       "</style>\n",
       "<table border=\"1\" class=\"dataframe\">\n",
       "  <thead>\n",
       "    <tr style=\"text-align: right;\">\n",
       "      <th></th>\n",
       "      <th>contagem_microempresas</th>\n",
       "      <th>Densidade</th>\n",
       "      <th>aumento</th>\n",
       "      <th>aceleracao</th>\n",
       "    </tr>\n",
       "    <tr>\n",
       "      <th>estado</th>\n",
       "      <th></th>\n",
       "      <th></th>\n",
       "      <th></th>\n",
       "      <th></th>\n",
       "    </tr>\n",
       "  </thead>\n",
       "  <tbody>\n",
       "    <tr>\n",
       "      <th>North Dakota</th>\n",
       "      <td>479.0</td>\n",
       "      <td>2.0</td>\n",
       "      <td>0.0</td>\n",
       "      <td>0.0</td>\n",
       "    </tr>\n",
       "    <tr>\n",
       "      <th>West Virginia</th>\n",
       "      <td>651.0</td>\n",
       "      <td>2.0</td>\n",
       "      <td>-2.0</td>\n",
       "      <td>-0.0</td>\n",
       "    </tr>\n",
       "    <tr>\n",
       "      <th>Mississippi</th>\n",
       "      <td>751.0</td>\n",
       "      <td>2.0</td>\n",
       "      <td>0.0</td>\n",
       "      <td>-0.0</td>\n",
       "    </tr>\n",
       "    <tr>\n",
       "      <th>Nebraska</th>\n",
       "      <td>924.0</td>\n",
       "      <td>3.0</td>\n",
       "      <td>-2.0</td>\n",
       "      <td>-0.0</td>\n",
       "    </tr>\n",
       "    <tr>\n",
       "      <th>Montana</th>\n",
       "      <td>936.0</td>\n",
       "      <td>4.0</td>\n",
       "      <td>-4.0</td>\n",
       "      <td>-0.0</td>\n",
       "    </tr>\n",
       "    <tr>\n",
       "      <th>South Dakota</th>\n",
       "      <td>1049.0</td>\n",
       "      <td>3.0</td>\n",
       "      <td>-6.0</td>\n",
       "      <td>-0.0</td>\n",
       "    </tr>\n",
       "    <tr>\n",
       "      <th>Alaska</th>\n",
       "      <td>1065.0</td>\n",
       "      <td>4.0</td>\n",
       "      <td>-1.0</td>\n",
       "      <td>0.0</td>\n",
       "    </tr>\n",
       "    <tr>\n",
       "      <th>Arkansas</th>\n",
       "      <td>1069.0</td>\n",
       "      <td>2.0</td>\n",
       "      <td>-1.0</td>\n",
       "      <td>-0.0</td>\n",
       "    </tr>\n",
       "    <tr>\n",
       "      <th>Iowa</th>\n",
       "      <td>1070.0</td>\n",
       "      <td>3.0</td>\n",
       "      <td>-0.0</td>\n",
       "      <td>-0.0</td>\n",
       "    </tr>\n",
       "    <tr>\n",
       "      <th>Kentucky</th>\n",
       "      <td>1121.0</td>\n",
       "      <td>2.0</td>\n",
       "      <td>-1.0</td>\n",
       "      <td>-0.0</td>\n",
       "    </tr>\n",
       "    <tr>\n",
       "      <th>Kansas</th>\n",
       "      <td>1148.0</td>\n",
       "      <td>2.0</td>\n",
       "      <td>1.0</td>\n",
       "      <td>0.0</td>\n",
       "    </tr>\n",
       "    <tr>\n",
       "      <th>Wyoming</th>\n",
       "      <td>2060.0</td>\n",
       "      <td>9.0</td>\n",
       "      <td>-2.0</td>\n",
       "      <td>-0.0</td>\n",
       "    </tr>\n",
       "    <tr>\n",
       "      <th>Idaho</th>\n",
       "      <td>2222.0</td>\n",
       "      <td>5.0</td>\n",
       "      <td>-9.0</td>\n",
       "      <td>-0.0</td>\n",
       "    </tr>\n",
       "    <tr>\n",
       "      <th>Alabama</th>\n",
       "      <td>2241.0</td>\n",
       "      <td>2.0</td>\n",
       "      <td>-0.0</td>\n",
       "      <td>0.0</td>\n",
       "    </tr>\n",
       "    <tr>\n",
       "      <th>New Mexico</th>\n",
       "      <td>2260.0</td>\n",
       "      <td>3.0</td>\n",
       "      <td>-3.0</td>\n",
       "      <td>-0.0</td>\n",
       "    </tr>\n",
       "    <tr>\n",
       "      <th>Missouri</th>\n",
       "      <td>2298.0</td>\n",
       "      <td>3.0</td>\n",
       "      <td>4.0</td>\n",
       "      <td>0.0</td>\n",
       "    </tr>\n",
       "    <tr>\n",
       "      <th>Louisiana</th>\n",
       "      <td>2353.0</td>\n",
       "      <td>2.0</td>\n",
       "      <td>-0.0</td>\n",
       "      <td>0.0</td>\n",
       "    </tr>\n",
       "    <tr>\n",
       "      <th>Indiana</th>\n",
       "      <td>2538.0</td>\n",
       "      <td>3.0</td>\n",
       "      <td>-0.0</td>\n",
       "      <td>0.0</td>\n",
       "    </tr>\n",
       "    <tr>\n",
       "      <th>Oklahoma</th>\n",
       "      <td>2730.0</td>\n",
       "      <td>3.0</td>\n",
       "      <td>-0.0</td>\n",
       "      <td>-0.0</td>\n",
       "    </tr>\n",
       "    <tr>\n",
       "      <th>Vermont</th>\n",
       "      <td>2974.0</td>\n",
       "      <td>7.0</td>\n",
       "      <td>-14.0</td>\n",
       "      <td>-0.0</td>\n",
       "    </tr>\n",
       "    <tr>\n",
       "      <th>Wisconsin</th>\n",
       "      <td>3028.0</td>\n",
       "      <td>4.0</td>\n",
       "      <td>1.0</td>\n",
       "      <td>0.0</td>\n",
       "    </tr>\n",
       "    <tr>\n",
       "      <th>Minnesota</th>\n",
       "      <td>3167.0</td>\n",
       "      <td>3.0</td>\n",
       "      <td>-0.0</td>\n",
       "      <td>-0.0</td>\n",
       "    </tr>\n",
       "    <tr>\n",
       "      <th>Tennessee</th>\n",
       "      <td>3550.0</td>\n",
       "      <td>3.0</td>\n",
       "      <td>2.0</td>\n",
       "      <td>0.0</td>\n",
       "    </tr>\n",
       "    <tr>\n",
       "      <th>Virginia</th>\n",
       "      <td>3578.0</td>\n",
       "      <td>4.0</td>\n",
       "      <td>-0.0</td>\n",
       "      <td>0.0</td>\n",
       "    </tr>\n",
       "    <tr>\n",
       "      <th>Maine</th>\n",
       "      <td>4064.0</td>\n",
       "      <td>5.0</td>\n",
       "      <td>21.0</td>\n",
       "      <td>0.0</td>\n",
       "    </tr>\n",
       "    <tr>\n",
       "      <th>Georgia</th>\n",
       "      <td>4163.0</td>\n",
       "      <td>3.0</td>\n",
       "      <td>-0.0</td>\n",
       "      <td>0.0</td>\n",
       "    </tr>\n",
       "    <tr>\n",
       "      <th>South Carolina</th>\n",
       "      <td>4648.0</td>\n",
       "      <td>3.0</td>\n",
       "      <td>4.0</td>\n",
       "      <td>0.0</td>\n",
       "    </tr>\n",
       "    <tr>\n",
       "      <th>Ohio</th>\n",
       "      <td>5027.0</td>\n",
       "      <td>3.0</td>\n",
       "      <td>-0.0</td>\n",
       "      <td>-0.0</td>\n",
       "    </tr>\n",
       "    <tr>\n",
       "      <th>North Carolina</th>\n",
       "      <td>5051.0</td>\n",
       "      <td>4.0</td>\n",
       "      <td>-0.0</td>\n",
       "      <td>0.0</td>\n",
       "    </tr>\n",
       "    <tr>\n",
       "      <th>Michigan</th>\n",
       "      <td>6206.0</td>\n",
       "      <td>4.0</td>\n",
       "      <td>-12.0</td>\n",
       "      <td>-0.0</td>\n",
       "    </tr>\n",
       "    <tr>\n",
       "      <th>Texas</th>\n",
       "      <td>6332.0</td>\n",
       "      <td>3.0</td>\n",
       "      <td>-1.0</td>\n",
       "      <td>-0.0</td>\n",
       "    </tr>\n",
       "    <tr>\n",
       "      <th>Illinois</th>\n",
       "      <td>7334.0</td>\n",
       "      <td>3.0</td>\n",
       "      <td>0.0</td>\n",
       "      <td>0.0</td>\n",
       "    </tr>\n",
       "    <tr>\n",
       "      <th>Colorado</th>\n",
       "      <td>7453.0</td>\n",
       "      <td>9.0</td>\n",
       "      <td>-1.0</td>\n",
       "      <td>0.0</td>\n",
       "    </tr>\n",
       "    <tr>\n",
       "      <th>Oregon</th>\n",
       "      <td>7563.0</td>\n",
       "      <td>7.0</td>\n",
       "      <td>3.0</td>\n",
       "      <td>0.0</td>\n",
       "    </tr>\n",
       "    <tr>\n",
       "      <th>New Hampshire</th>\n",
       "      <td>8419.0</td>\n",
       "      <td>6.0</td>\n",
       "      <td>-8.0</td>\n",
       "      <td>0.0</td>\n",
       "    </tr>\n",
       "    <tr>\n",
       "      <th>Utah</th>\n",
       "      <td>8532.0</td>\n",
       "      <td>8.0</td>\n",
       "      <td>10.0</td>\n",
       "      <td>0.0</td>\n",
       "    </tr>\n",
       "    <tr>\n",
       "      <th>Pennsylvania</th>\n",
       "      <td>8639.0</td>\n",
       "      <td>4.0</td>\n",
       "      <td>4.0</td>\n",
       "      <td>0.0</td>\n",
       "    </tr>\n",
       "    <tr>\n",
       "      <th>Rhode Island</th>\n",
       "      <td>10108.0</td>\n",
       "      <td>7.0</td>\n",
       "      <td>-40.0</td>\n",
       "      <td>-3.0</td>\n",
       "    </tr>\n",
       "    <tr>\n",
       "      <th>Washington</th>\n",
       "      <td>12632.0</td>\n",
       "      <td>5.0</td>\n",
       "      <td>2.0</td>\n",
       "      <td>0.0</td>\n",
       "    </tr>\n",
       "    <tr>\n",
       "      <th>Hawaii</th>\n",
       "      <td>15993.0</td>\n",
       "      <td>9.0</td>\n",
       "      <td>82.0</td>\n",
       "      <td>0.0</td>\n",
       "    </tr>\n",
       "    <tr>\n",
       "      <th>Maryland</th>\n",
       "      <td>18334.0</td>\n",
       "      <td>7.0</td>\n",
       "      <td>26.0</td>\n",
       "      <td>-0.0</td>\n",
       "    </tr>\n",
       "    <tr>\n",
       "      <th>New York</th>\n",
       "      <td>23361.0</td>\n",
       "      <td>5.0</td>\n",
       "      <td>-0.0</td>\n",
       "      <td>-0.0</td>\n",
       "    </tr>\n",
       "    <tr>\n",
       "      <th>Nevada</th>\n",
       "      <td>26571.0</td>\n",
       "      <td>13.0</td>\n",
       "      <td>7.0</td>\n",
       "      <td>0.0</td>\n",
       "    </tr>\n",
       "    <tr>\n",
       "      <th>New Jersey</th>\n",
       "      <td>28441.0</td>\n",
       "      <td>8.0</td>\n",
       "      <td>5.0</td>\n",
       "      <td>0.0</td>\n",
       "    </tr>\n",
       "    <tr>\n",
       "      <th>Florida</th>\n",
       "      <td>29522.0</td>\n",
       "      <td>7.0</td>\n",
       "      <td>-31.0</td>\n",
       "      <td>-0.0</td>\n",
       "    </tr>\n",
       "    <tr>\n",
       "      <th>Connecticut</th>\n",
       "      <td>30995.0</td>\n",
       "      <td>7.0</td>\n",
       "      <td>10.0</td>\n",
       "      <td>-0.0</td>\n",
       "    </tr>\n",
       "    <tr>\n",
       "      <th>Massachusetts</th>\n",
       "      <td>31843.0</td>\n",
       "      <td>9.0</td>\n",
       "      <td>5.0</td>\n",
       "      <td>0.0</td>\n",
       "    </tr>\n",
       "    <tr>\n",
       "      <th>Arizona</th>\n",
       "      <td>38980.0</td>\n",
       "      <td>5.0</td>\n",
       "      <td>6.0</td>\n",
       "      <td>0.0</td>\n",
       "    </tr>\n",
       "    <tr>\n",
       "      <th>Delaware</th>\n",
       "      <td>47754.0</td>\n",
       "      <td>18.0</td>\n",
       "      <td>926.0</td>\n",
       "      <td>11.0</td>\n",
       "    </tr>\n",
       "    <tr>\n",
       "      <th>California</th>\n",
       "      <td>58242.0</td>\n",
       "      <td>8.0</td>\n",
       "      <td>1.0</td>\n",
       "      <td>-0.0</td>\n",
       "    </tr>\n",
       "    <tr>\n",
       "      <th>District of Columbia</th>\n",
       "      <td>76589.0</td>\n",
       "      <td>14.0</td>\n",
       "      <td>-801.0</td>\n",
       "      <td>-24.0</td>\n",
       "    </tr>\n",
       "  </tbody>\n",
       "</table>\n",
       "</div>"
      ],
      "text/plain": [
       "                      contagem_microempresas  Densidade  aumento  aceleracao\n",
       "estado                                                                      \n",
       "North Dakota                           479.0        2.0      0.0         0.0\n",
       "West Virginia                          651.0        2.0     -2.0        -0.0\n",
       "Mississippi                            751.0        2.0      0.0        -0.0\n",
       "Nebraska                               924.0        3.0     -2.0        -0.0\n",
       "Montana                                936.0        4.0     -4.0        -0.0\n",
       "South Dakota                          1049.0        3.0     -6.0        -0.0\n",
       "Alaska                                1065.0        4.0     -1.0         0.0\n",
       "Arkansas                              1069.0        2.0     -1.0        -0.0\n",
       "Iowa                                  1070.0        3.0     -0.0        -0.0\n",
       "Kentucky                              1121.0        2.0     -1.0        -0.0\n",
       "Kansas                                1148.0        2.0      1.0         0.0\n",
       "Wyoming                               2060.0        9.0     -2.0        -0.0\n",
       "Idaho                                 2222.0        5.0     -9.0        -0.0\n",
       "Alabama                               2241.0        2.0     -0.0         0.0\n",
       "New Mexico                            2260.0        3.0     -3.0        -0.0\n",
       "Missouri                              2298.0        3.0      4.0         0.0\n",
       "Louisiana                             2353.0        2.0     -0.0         0.0\n",
       "Indiana                               2538.0        3.0     -0.0         0.0\n",
       "Oklahoma                              2730.0        3.0     -0.0        -0.0\n",
       "Vermont                               2974.0        7.0    -14.0        -0.0\n",
       "Wisconsin                             3028.0        4.0      1.0         0.0\n",
       "Minnesota                             3167.0        3.0     -0.0        -0.0\n",
       "Tennessee                             3550.0        3.0      2.0         0.0\n",
       "Virginia                              3578.0        4.0     -0.0         0.0\n",
       "Maine                                 4064.0        5.0     21.0         0.0\n",
       "Georgia                               4163.0        3.0     -0.0         0.0\n",
       "South Carolina                        4648.0        3.0      4.0         0.0\n",
       "Ohio                                  5027.0        3.0     -0.0        -0.0\n",
       "North Carolina                        5051.0        4.0     -0.0         0.0\n",
       "Michigan                              6206.0        4.0    -12.0        -0.0\n",
       "Texas                                 6332.0        3.0     -1.0        -0.0\n",
       "Illinois                              7334.0        3.0      0.0         0.0\n",
       "Colorado                              7453.0        9.0     -1.0         0.0\n",
       "Oregon                                7563.0        7.0      3.0         0.0\n",
       "New Hampshire                         8419.0        6.0     -8.0         0.0\n",
       "Utah                                  8532.0        8.0     10.0         0.0\n",
       "Pennsylvania                          8639.0        4.0      4.0         0.0\n",
       "Rhode Island                         10108.0        7.0    -40.0        -3.0\n",
       "Washington                           12632.0        5.0      2.0         0.0\n",
       "Hawaii                               15993.0        9.0     82.0         0.0\n",
       "Maryland                             18334.0        7.0     26.0        -0.0\n",
       "New York                             23361.0        5.0     -0.0        -0.0\n",
       "Nevada                               26571.0       13.0      7.0         0.0\n",
       "New Jersey                           28441.0        8.0      5.0         0.0\n",
       "Florida                              29522.0        7.0    -31.0        -0.0\n",
       "Connecticut                          30995.0        7.0     10.0        -0.0\n",
       "Massachusetts                        31843.0        9.0      5.0         0.0\n",
       "Arizona                              38980.0        5.0      6.0         0.0\n",
       "Delaware                             47754.0       18.0    926.0        11.0\n",
       "California                           58242.0        8.0      1.0        -0.0\n",
       "District of Columbia                 76589.0       14.0   -801.0       -24.0"
      ]
     },
     "execution_count": 21,
     "metadata": {},
     "output_type": "execute_result"
    }
   ],
   "source": [
    "agrupar2 = dados.groupby('estado')['contagem_microempresas', 'Densidade', 'aumento','aceleracao'].mean().round()\n",
    "agrupar2.sort_values('contagem_microempresas')"
   ]
  },
  {
   "cell_type": "markdown",
   "metadata": {},
   "source": [
    "## <font color=teal>Histograma"
   ]
  },
  {
   "cell_type": "code",
   "execution_count": 22,
   "metadata": {},
   "outputs": [
    {
     "data": {
      "text/plain": [
       "<matplotlib.axes._subplots.AxesSubplot at 0x7f1e563ec1d0>"
      ]
     },
     "execution_count": 22,
     "metadata": {},
     "output_type": "execute_result"
    },
    {
     "data": {
      "image/png": "[encoded data removed]",
      "text/plain": [
       "<Figure size 432x288 with 1 Axes>"
      ]
     },
     "metadata": {},
     "output_type": "display_data"
    }
   ],
   "source": [
    "dados.contagem_microempresas.plot(kind='hist')"
   ]
  },
  {
   "cell_type": "markdown",
   "metadata": {},
   "source": [
    "## <font color=teal>Gráfico de barras"
   ]
  },
  {
   "cell_type": "markdown",
   "metadata": {},
   "source": [
    "### com amostra aleatórias de dados"
   ]
  },
  {
   "cell_type": "code",
   "execution_count": 23,
   "metadata": {},
   "outputs": [],
   "source": [
    "amostras = dados.sample(12)"
   ]
  },
  {
   "cell_type": "code",
   "execution_count": 24,
   "metadata": {},
   "outputs": [
    {
     "data": {
      "image/png": "[encoded data removed]",
      "text/plain": [
       "<Figure size 864x432 with 1 Axes>"
      ]
     },
     "metadata": {},
     "output_type": "display_data"
    }
   ],
   "source": [
    "ax = sns.barplot(x='estado', y='contagem_microempresas', palette='GnBu_d',\n",
    "                  data = amostras, order= amostras.sort_values('contagem_microempresas').estado)\n",
    "\n",
    "ax.set_title('Amostras aleatórias de dados', loc='left',\n",
    "            fontsize=18)\n",
    "\n",
    "ax.figure.set_size_inches(12,6)"
   ]
  },
  {
   "cell_type": "markdown",
   "metadata": {},
   "source": [
    "### Estado com mais microempresas"
   ]
  },
  {
   "cell_type": "code",
   "execution_count": 25,
   "metadata": {},
   "outputs": [
    {
     "data": {
      "text/plain": [
       "array(['Arizona', 'California', 'Connecticut', 'Delaware',\n",
       "       'District of Columbia', 'Massachusetts'], dtype=object)"
      ]
     },
     "execution_count": 25,
     "metadata": {},
     "output_type": "execute_result"
    }
   ],
   "source": [
    "data2 = dados.query('estado in [\"District of Columbia\", \"California\", \"Delaware\", \"Arizona\", \"Massachusetts\", \"Connecticut\"]')\n",
    "data2.estado.unique()"
   ]
  },
  {
   "cell_type": "code",
   "execution_count": 27,
   "metadata": {},
   "outputs": [
    {
     "data": {
      "image/png": "[encoded data removed]",
      "text/plain": [
       "<Figure size 864x432 with 1 Axes>"
      ]
     },
     "metadata": {},
     "output_type": "display_data"
    }
   ],
   "source": [
    "ax = sns.barplot(x='estado', y='contagem_microempresas', palette='GnBu_d', data = data2)\n",
    "\n",
    "ax.set_title('Estado com mais microempresas', loc='left',\n",
    "            fontsize=18)\n",
    "\n",
    "ax.figure.set_size_inches(12,6)"
   ]
  },
  {
   "cell_type": "markdown",
   "metadata": {},
   "source": [
    "### Estado com menos microempresas"
   ]
  },
  {
   "cell_type": "code",
   "execution_count": 28,
   "metadata": {},
   "outputs": [
    {
     "data": {
      "text/plain": [
       "array(['Mississippi', 'Montana', 'Nebraska', 'North Dakota',\n",
       "       'South Dakota', 'West Virginia'], dtype=object)"
      ]
     },
     "execution_count": 28,
     "metadata": {},
     "output_type": "execute_result"
    }
   ],
   "source": [
    "data3 = dados.query('estado in [\"North Dakota\", \"West Virginia\", \"Mississippi\", \"Nebraska\", \"Montana\", \"South Dakota\"]')\n",
    "data3.estado.unique()"
   ]
  },
  {
   "cell_type": "code",
   "execution_count": 31,
   "metadata": {},
   "outputs": [
    {
     "data": {
      "image/png": "[encoded data removed]",
      "text/plain": [
       "<Figure size 864x432 with 1 Axes>"
      ]
     },
     "metadata": {},
     "output_type": "display_data"
    }
   ],
   "source": [
    "ax = sns.barplot(x='estado', y='contagem_microempresas', palette='GnBu_d', data = data3)\n",
    "\n",
    "ax.set_title('Estado com menos microempresas', loc='left',\n",
    "            fontsize=18)\n",
    "\n",
    "ax.figure.set_size_inches(12,6)"
   ]
  },
  {
   "cell_type": "code",
   "execution_count": null,
   "metadata": {},
   "outputs": [],
   "source": []
  }
 ],
 "metadata": {
  "kernelspec": {
   "display_name": "Python 3",
   "language": "python",
   "name": "python3"
  },
  "language_info": {
   "codemirror_mode": {
    "name": "ipython",
    "version": 3
   },
   "file_extension": ".py",
   "mimetype": "text/x-python",
   "name": "python",
   "nbconvert_exporter": "python",
   "pygments_lexer": "ipython3",
   "version": "3.7.6"
  }
 },
 "nbformat": 4,
 "nbformat_minor": 4
}
